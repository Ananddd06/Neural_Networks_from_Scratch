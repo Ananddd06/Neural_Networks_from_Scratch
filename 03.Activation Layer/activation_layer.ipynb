{
 "cells": [
  {
   "cell_type": "code",
   "execution_count": 6,
   "id": "99ff5c12",
   "metadata": {},
   "outputs": [
    {
     "name": "stdout",
     "output_type": "stream",
     "text": [
      "[-2.44447048e-03  3.91406817e-02  3.46415704e-01  2.61688808e+00]\n"
     ]
    }
   ],
   "source": [
    "import numpy as np\n",
    "inputs = [[1,3,5,7] , [2,4,6,8] , [3,5,7,9]]\n",
    "\n",
    "# This is a RELU actiavtion function why are we using this activation function\n",
    "# is we need to make teh model to understand the non linearity of the data\n",
    "# so that it can learn the complex patterns in the data\n",
    "activations = np.exp(inputs) - np.max(inputs , axis = 1 , keepdims=True)\n",
    "probabilty = activations/np.sum(activations , axis = 1 , keepdims=True)\n",
    "\n",
    "print(sum(probabilty))\n"
   ]
  }
 ],
 "metadata": {
  "kernelspec": {
   "display_name": "mlproj",
   "language": "python",
   "name": "python3"
  },
  "language_info": {
   "codemirror_mode": {
    "name": "ipython",
    "version": 3
   },
   "file_extension": ".py",
   "mimetype": "text/x-python",
   "name": "python",
   "nbconvert_exporter": "python",
   "pygments_lexer": "ipython3",
   "version": "3.9.21"
  }
 },
 "nbformat": 4,
 "nbformat_minor": 5
}
